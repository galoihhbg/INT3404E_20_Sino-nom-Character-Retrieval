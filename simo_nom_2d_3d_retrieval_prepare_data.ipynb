{
  "cells": [
    {
      "cell_type": "code",
      "execution_count": null,
      "metadata": {
        "id": "yZ931G1TE-DT"
      },
      "outputs": [],
      "source": [
        "from google.colab import drive\n",
        "drive.mount('/content/gdrive')"
      ]
    },
    {
      "cell_type": "code",
      "source": [
        "pip install trimesh"
      ],
      "metadata": {
        "id": "bb7rRU9hxITz"
      },
      "execution_count": null,
      "outputs": []
    },
    {
      "cell_type": "code",
      "execution_count": null,
      "metadata": {
        "id": "H8dyUtRbKCuU"
      },
      "outputs": [],
      "source": [
        "import os\n",
        "import sys"
      ]
    },
    {
      "cell_type": "markdown",
      "source": [
        "Upload ảnh query vào Sino-Nom 2D-3D Retrieval/input/2d_images', stl file vào input/3d_meshes."
      ],
      "metadata": {
        "id": "UCiCi3L3Tc7p"
      }
    },
    {
      "cell_type": "code",
      "source": [
        "root_path = '/content/gdrive/MyDrive/Sino-Nom 2D-3D Retrieval/'\n",
        "if 'Sino-Nom 2D-3D Retrieval' not in os.listdir('/content/gdrive/MyDrive/'):\n",
        "    os.mkdir('/content/gdrive/MyDrive/Sino-Nom 2D-3D Retrieval')\n",
        "    os.mkdir('/content/gdrive/MyDrive/Sino-Nom 2D-3D Retrieval/input')\n",
        "    os.mkdir('/content/gdrive/MyDrive/Sino-Nom 2D-3D Retrieval/input/2d_images')\n",
        "    os.mkdir('/content/gdrive/MyDrive/Sino-Nom 2D-3D Retrieval/input/3d_meshes')\n",
        "    os.mkdir('/content/gdrive/MyDrive/Sino-Nom 2D-3D Retrieval/output')\n",
        "    os.mkdir('/content/gdrive/MyDrive/Sino-Nom 2D-3D Retrieval/output/processed_images')\n",
        "    os.mkdir('/content/gdrive/MyDrive/Sino-Nom 2D-3D Retrieval/output/2d_projections')"
      ],
      "metadata": {
        "id": "eOnqTQz_rS-V"
      },
      "execution_count": null,
      "outputs": []
    },
    {
      "cell_type": "code",
      "source": [
        "def extract_filename(filename):\n",
        "  return int(filename[:-4])"
      ],
      "metadata": {
        "id": "Q0XF2siNsfMd"
      },
      "execution_count": null,
      "outputs": []
    },
    {
      "cell_type": "code",
      "source": [
        "extract_filename('123.stl')"
      ],
      "metadata": {
        "colab": {
          "base_uri": "https://localhost:8080/"
        },
        "id": "i2MteNHqsoM7",
        "outputId": "2cc6079d-fd3e-4165-9cd5-b625fa55d6ac"
      },
      "execution_count": null,
      "outputs": [
        {
          "output_type": "execute_result",
          "data": {
            "text/plain": [
              "123"
            ]
          },
          "metadata": {},
          "execution_count": 4
        }
      ]
    },
    {
      "cell_type": "code",
      "source": [
        "_2d_images = sorted(os.listdir('/content/gdrive/MyDrive/Sino-Nom 2D-3D Retrieval/input/2d_images'), key = extract_filename)"
      ],
      "metadata": {
        "id": "HpAURATctQlp",
        "outputId": "9e6eb4a5-becd-4247-d357-63718c673ae6",
        "colab": {
          "base_uri": "https://localhost:8080/",
          "height": 141
        }
      },
      "execution_count": null,
      "outputs": [
        {
          "output_type": "error",
          "ename": "NameError",
          "evalue": "name 'os' is not defined",
          "traceback": [
            "\u001b[0;31m---------------------------------------------------------------------------\u001b[0m",
            "\u001b[0;31mNameError\u001b[0m                                 Traceback (most recent call last)",
            "\u001b[0;32m<ipython-input-5-0a13fe3ebfae>\u001b[0m in \u001b[0;36m<cell line: 1>\u001b[0;34m()\u001b[0m\n\u001b[0;32m----> 1\u001b[0;31m \u001b[0m_2d_images\u001b[0m \u001b[0;34m=\u001b[0m \u001b[0msorted\u001b[0m\u001b[0;34m(\u001b[0m\u001b[0mos\u001b[0m\u001b[0;34m.\u001b[0m\u001b[0mlistdir\u001b[0m\u001b[0;34m(\u001b[0m\u001b[0;34m'test_retrieval/query/'\u001b[0m\u001b[0;34m)\u001b[0m\u001b[0;34m,\u001b[0m \u001b[0mkey\u001b[0m \u001b[0;34m=\u001b[0m \u001b[0mextract_filename\u001b[0m\u001b[0;34m)\u001b[0m\u001b[0;34m\u001b[0m\u001b[0;34m\u001b[0m\u001b[0m\n\u001b[0m",
            "\u001b[0;31mNameError\u001b[0m: name 'os' is not defined"
          ]
        }
      ]
    },
    {
      "cell_type": "code",
      "source": [
        "_3d_meshes = sorted(os.listdir('/content/gdrive/MyDrive/Sino-Nom 2D-3D Retrieval/input/3d_meshes'), key = extract_filename)"
      ],
      "metadata": {
        "id": "brO4X-4pv5NT"
      },
      "execution_count": null,
      "outputs": []
    },
    {
      "cell_type": "code",
      "source": [
        "_2d_images"
      ],
      "metadata": {
        "id": "QgulGuYGL31e"
      },
      "execution_count": null,
      "outputs": []
    },
    {
      "cell_type": "markdown",
      "metadata": {
        "id": "vajE282PUbeZ"
      },
      "source": [
        "Data loader"
      ]
    },
    {
      "cell_type": "code",
      "execution_count": null,
      "metadata": {
        "id": "9OOEQgO_jSL7"
      },
      "outputs": [],
      "source": [
        "import numpy as np\n",
        "import cv2\n",
        "import trimesh\n",
        "import matplotlib.pyplot as plt"
      ]
    },
    {
      "cell_type": "code",
      "execution_count": null,
      "metadata": {
        "id": "VC86to-ijFkr"
      },
      "outputs": [],
      "source": [
        "def binary_image(img, thres_hold = 150):\n",
        "  return cv2.threshold(img, thres_hold, 255, cv2.THRESH_BINARY)[1]"
      ]
    },
    {
      "cell_type": "code",
      "source": [
        "def trimming_white(binary_img, output_size = (512, 512)):\n",
        "  non_white_pixels = np.where(binary_img != 255)\n",
        "\n",
        "  # Find the bounding points of non-white areas.\n",
        "  min_x = np.min(non_white_pixels[1])\n",
        "  max_x = np.max(non_white_pixels[1])\n",
        "  min_y = np.min(non_white_pixels[0])\n",
        "  max_y = np.max(non_white_pixels[0])\n",
        "\n",
        "  # Trim the image to remove the white\n",
        "  trimmed_image = cv2.resize(binary_img[min_y:max_y+1, min_x:max_x+1], output_size)\n",
        "\n",
        "  return trimmed_image"
      ],
      "metadata": {
        "id": "b078mbOm5bgp"
      },
      "execution_count": null,
      "outputs": []
    },
    {
      "cell_type": "code",
      "execution_count": null,
      "metadata": {
        "id": "ee6IozAuTQsl"
      },
      "outputs": [],
      "source": [
        "def convert_to_2d(file_path):\n",
        "    # Read STL file\n",
        "    mesh = trimesh.load(file_path)\n",
        "\n",
        "    # Counting bounding box\n",
        "    min_coords = np.min(mesh.vertices, axis=0)\n",
        "    max_coords = np.max(mesh.vertices, axis=0)\n",
        "\n",
        "    # Chop the 3D mesh into slices from the top down.\n",
        "    z_min, z_max = min_coords[2], max_coords[2]\n",
        "    z_step = (z_max - z_min) / 8\n",
        "    fig, ax = plt.subplots(figsize=(2,2), dpi=64)\n",
        "    ax.axis('off')\n",
        "\n",
        "    # Take out the first slice\n",
        "    cutting_plane = z_max - z_step\n",
        "\n",
        "    # Get faces are above the cutting_plane\n",
        "    above_cutting_plane_faces = []\n",
        "    for face in mesh.faces:\n",
        "        if np.all(mesh.vertices[face, 2] > cutting_plane):\n",
        "            above_cutting_plane_faces.append(face)\n",
        "\n",
        "    # Create new mesh from faces_above_cutting_plane\n",
        "    above_cutting_plane_mesh = trimesh.Trimesh(vertices=mesh.vertices, faces=above_cutting_plane_faces)\n",
        "\n",
        "    # Draw the flat projection\n",
        "    ax.scatter(above_cutting_plane_mesh.vertices[:, 0], above_cutting_plane_mesh.vertices[:, 1], s=1, alpha=0.5)\n",
        "\n",
        "    fig.canvas.draw()\n",
        "    img_data = np.frombuffer(fig.canvas.tostring_rgb(), dtype=np.uint8)\n",
        "    img_data = img_data.reshape(fig.canvas.get_width_height()[::-1] + (3,))\n",
        "    img = cv2.cvtColor(img_data, cv2.COLOR_RGB2GRAY)\n",
        "    img = cv2.resize(img, (1024, 1024))\n",
        "    img = trimming_white(binary_image(img, 150))\n",
        "    return img"
      ]
    },
    {
      "cell_type": "code",
      "execution_count": null,
      "metadata": {
        "id": "wyf5Aj3MwgXU"
      },
      "outputs": [],
      "source": [
        "for file_name in _2d_images:\n",
        "  img = cv2.imread('test_retrieval/query/' + file_name, cv2.IMREAD_GRAYSCALE)\n",
        "  img = trimming_white(binary_image(img, 150))\n",
        "  cv2.imwrite(root_path + 'output/processed_images/' + file_name, img)"
      ]
    },
    {
      "cell_type": "code",
      "execution_count": null,
      "metadata": {
        "id": "vSdBNvX_tIX7"
      },
      "outputs": [],
      "source": [
        "for file in _3d_meshes:\n",
        "  img_2d = convert_to_2d('test_retrieval/database/'+ file)\n",
        "  cv2.imwrite(root_path + 'output/2d_projections/' + file[:-3] + \"png\", img_2d)"
      ]
    }
  ],
  "metadata": {
    "colab": {
      "provenance": [],
      "gpuType": "T4"
    },
    "kernelspec": {
      "display_name": "Python 3",
      "name": "python3"
    },
    "language_info": {
      "name": "python"
    }
  },
  "nbformat": 4,
  "nbformat_minor": 0
}